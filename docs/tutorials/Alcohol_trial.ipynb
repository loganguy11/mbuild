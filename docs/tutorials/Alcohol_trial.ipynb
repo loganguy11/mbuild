{
 "cells": [
  {
   "cell_type": "code",
   "execution_count": 93,
   "metadata": {},
   "outputs": [],
   "source": [
    "import mbuild as mb\n",
    "import numpy as np\n",
    "\n",
    "class CH2(mb.Compound):\n",
    "    \"\"\"Creates a monomer for a straight alkyl chain\"\"\"\n",
    "    def __init__(self):\n",
    "        super(CH2, self).__init__()\n",
    "        self.add(mb.Particle(name='C', pos=[0,0,0]), label='C[$]')\n",
    "        self.add(mb.Particle(name='H', pos=[-0.109, 0, 0.0]), label='HC[$]')    \n",
    "        self.add(mb.Particle(name='H', pos=[0.109, 0, 0.0]), label='HC[$]')\n",
    "        theta = 0.5 * (180 - 109.5) * np.pi / 180\n",
    "        self['HC'][0].rotate(theta, around=[0, 1, 0])\n",
    "        self['HC'][1].rotate(-theta, around=[0, 1, 0])\n",
    "        self.add_bond((self[0],self['HC'][0]))\n",
    "        self.add_bond((self[0],self['HC'][1]))\n",
    "        \n",
    "        self.add(mb.Port(anchor=self[0]), label='up')\n",
    "        self['up'].translate([0, -0.154/2, 0]) \n",
    "        self['up'].rotate(theta, around=[1, 0, 0])\n",
    "        self.add(mb.Port(anchor=self[0]), label='down')\n",
    "        self['down'].translate([0, 0.154/2, 0]) \n",
    "        self['down'].rotate(np.pi, [0, 1, 0])\n",
    "        self['down'].rotate(-theta, around=[1, 0, 0]) \n",
    "        \n",
    "class CH3(mb.Compound):\n",
    "    \"\"\"Creates a methyl group\"\"\"\n",
    "    def __init__(self):\n",
    "        super(CH3, self).__init__()\n",
    "        self.add(mb.Particle(name='C', pos=[0,0,0]), label='C[$]')\n",
    "        self.add(mb.Particle(name='H', pos=[-0.109, 0, 0.0]), label='HC[$]')    \n",
    "        self.add(mb.Particle(name='H', pos=[0.109, 0, 0.0]), label='HC[$]')\n",
    "        self.add(mb.Particle(name='H', pos=[0, 0.154, 0]), label='HC[$]')\n",
    "        theta = 0.5 * (180 - 109.5) * np.pi / 180\n",
    "        self['HC'][0].rotate(theta, around=[0, 1, 0])\n",
    "        self['HC'][1].rotate(-theta, around=[0, 1, 0])\n",
    "        self['HC'][2].rotate(-theta, around=[1, 0, 0])\n",
    "        self.add_bond((self[0],self['HC'][0]))\n",
    "        self.add_bond((self[0],self['HC'][1]))\n",
    "        self.add_bond((self[0],self['HC'][2]))\n",
    "        \n",
    "        self.add(mb.Port(anchor=self[0]), label='chain')\n",
    "        self['chain'].translate([0, -0.154/2, 0]) \n",
    "        self['chain'].rotate(theta, around=[1, 0, 0])\n",
    "        \n",
    "class OH(mb.Compound):\n",
    "    \"\"\"Creates a hydroxyl group\"\"\"\n",
    "    def __init__(self):\n",
    "        super(OH, self).__init__()\n",
    "        self.add(mb.Particle(name='O', pos=[0,0,0]), label='O')\n",
    "        self.add(mb.Particle(name='H', pos =[.096, 0, 0]), label='H')\n",
    "        self.add_bond((self[0], self[1]))\n",
    "        \n",
    "        self.add(mb.Port(anchor=self[0]), label='cbond')\n",
    "        self['cbond'].translate([-.143/2, 0, 0])\n",
    "        theta = (180 - 104.5) * np.pi / 180\n",
    "        self['cbond'].rotate(theta, around=[0,1,0])\n"
   ]
  },
  {
   "cell_type": "code",
   "execution_count": 95,
   "metadata": {},
   "outputs": [
    {
     "name": "stderr",
     "output_type": "stream",
     "text": [
      "/home/loganguy/builds/mbuild/mbuild/compound.py:1240: UserWarning: Performing energy minimization using the Open Babel package. Please refer to the documentation to find the appropriate citations for Open Babel and the UFF force field\n",
      "  \"Open Babel and the {} force field\".format(forcefield))\n",
      "/home/loganguy/anaconda3/envs/mosdef/lib/python3.5/site-packages/pandas/io/parsers.py:2108: FutureWarning: split() requires a non-empty pattern match.\n",
      "  yield pat.split(line.strip())\n",
      "/home/loganguy/anaconda3/envs/mosdef/lib/python3.5/site-packages/pandas/io/parsers.py:2110: FutureWarning: split() requires a non-empty pattern match.\n",
      "  yield pat.split(line.strip())\n",
      "/home/loganguy/anaconda3/envs/mosdef/lib/python3.5/site-packages/ipywidgets/widgets/widget.py:464: DeprecationWarning: The 'warn' method is deprecated, use 'warning' instead\n",
      "  self.log.warn(message)\n",
      "The installed widget Javascript is the wrong version.\n"
     ]
    }
   ],
   "source": [
    "#use base classes to constuct a new alcohol class\n",
    "\n",
    "\n",
    "class Alcohol(mb.Compound):\n",
    "    \"\"\"Creates an n-alcohol based on user input\"\"\"\n",
    "    def __init__(self, chain_length):\n",
    "        super(Alcohol, self).__init__()\n",
    "        self.add(CH3(), label=\"tailcap\")\n",
    "        tail = mb.Polymer(CH2(), (chain_length - 1))\n",
    "        self.add(tail, label=\"tail\")\n",
    "        self.add(OH(), label=\"head\")\n",
    "        mb.force_overlap(move_this=self['tailcap'],from_positions=self['tailcap']['chain'],\n",
    "                         to_positions=self['tail']['up'])\n",
    "        mb.force_overlap(move_this=hydroxyl, from_positions=self['head']['cbond'], \n",
    "                         to_positions=self['tail']['down'])\n",
    "\n",
    "#instantiation and visualization\n",
    "alcohol = Alcohol(6)\n",
    "alcohol.energy_minimization()\n",
    "alcohol.visualize()"
   ]
  },
  {
   "cell_type": "code",
   "execution_count": 96,
   "metadata": {
    "collapsed": true
   },
   "outputs": [],
   "source": [
    "alcohol.save('alcohol.mol2', overwrite=True)"
   ]
  },
  {
   "cell_type": "code",
   "execution_count": null,
   "metadata": {
    "collapsed": true
   },
   "outputs": [],
   "source": []
  }
 ],
 "metadata": {
  "kernelspec": {
   "display_name": "Python 3",
   "language": "python",
   "name": "python3"
  },
  "language_info": {
   "codemirror_mode": {
    "name": "ipython",
    "version": 3
   },
   "file_extension": ".py",
   "mimetype": "text/x-python",
   "name": "python",
   "nbconvert_exporter": "python",
   "pygments_lexer": "ipython3",
   "version": "3.5.3"
  }
 },
 "nbformat": 4,
 "nbformat_minor": 2
}
