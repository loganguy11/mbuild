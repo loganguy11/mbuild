{
 "cells": [
  {
   "cell_type": "code",
   "execution_count": 1,
   "metadata": {
    "collapsed": true
   },
   "outputs": [],
   "source": [
    "import mbuild as mb\n",
    "import numpy as np\n",
    "\n",
    "from mbuild.prototypes.OH import OH\n",
    "\n",
    "class COOH(mb.Compound):\n",
    "    \"\"\"Creates headgroup of a carboxylic acid\"\"\"\n",
    "    def __init__(self):\n",
    "        super(COOH,self).__init__()\n",
    "        self.add(mb.Particle(name='C'), label='C')\n",
    "        self.add(mb.Particle(name='O', pos = [0, .121, 0]), label='CO')\n",
    "        self.add_bond((self[0], self[1]))\n",
    "        \n",
    "        self.add(mb.Port(anchor=self[0]), label='up')\n",
    "        self['up'].translate([0,-.132/2,0])\n",
    "        theta = (111 / 2) * np.pi / 180\n",
    "        self['up'].rotate(theta, around=[0,0,1])\n",
    "        \n",
    "        \n",
    "        self.add(mb.Port(anchor=self[0]), label='down')\n",
    "        self['down'].translate([0, -.15/2, 0])\n",
    "        self['down'].rotate(-theta, around=[0,0,1])\n",
    "        \n",
    "        self.add(OH(), label='hydroxyl')\n",
    "    \n",
    "    \n",
    "        mb.force_overlap(move_this=self['hydroxyl'],from_positions=self['hydroxyl']['cbond'],\n",
    "                        to_positions=self['up'])"
   ]
  },
  {
   "cell_type": "code",
   "execution_count": 3,
   "metadata": {},
   "outputs": [
    {
     "name": "stderr",
     "output_type": "stream",
     "text": [
      "/home/loganguy/builds/mbuild/mbuild/compound.py:1240: UserWarning: Performing energy minimization using the Open Babel package. Please refer to the documentation to find the appropriate citations for Open Babel and the UFF force field\n",
      "  \"Open Babel and the {} force field\".format(forcefield))\n",
      "/home/loganguy/anaconda3/envs/mosdef/lib/python3.5/site-packages/pandas/io/parsers.py:2108: FutureWarning: split() requires a non-empty pattern match.\n",
      "  yield pat.split(line.strip())\n",
      "/home/loganguy/anaconda3/envs/mosdef/lib/python3.5/site-packages/pandas/io/parsers.py:2110: FutureWarning: split() requires a non-empty pattern match.\n",
      "  yield pat.split(line.strip())\n"
     ]
    }
   ],
   "source": [
    "cooh = COOH()\n",
    "cooh.energy_minimization()\n",
    "cooh.visualize()\n",
    "cooh.save('cooh.mol2', overwrite=True)"
   ]
  },
  {
   "cell_type": "code",
   "execution_count": null,
   "metadata": {
    "collapsed": true
   },
   "outputs": [],
   "source": []
  }
 ],
 "metadata": {
  "kernelspec": {
   "display_name": "Python 3",
   "language": "python",
   "name": "python3"
  },
  "language_info": {
   "codemirror_mode": {
    "name": "ipython",
    "version": 3
   },
   "file_extension": ".py",
   "mimetype": "text/x-python",
   "name": "python",
   "nbconvert_exporter": "python",
   "pygments_lexer": "ipython3",
   "version": "3.5.3"
  }
 },
 "nbformat": 4,
 "nbformat_minor": 2
}
