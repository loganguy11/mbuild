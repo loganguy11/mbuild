{
 "cells": [
  {
   "cell_type": "code",
   "execution_count": 2,
   "metadata": {},
   "outputs": [],
   "source": [
    "import mbuild as mb\n",
    "import numpy as np\n",
    "\n",
    "from mbuild.prototypes.pctails import PCTails\n",
    "from mbuild.prototypes.pchead import PCHead\n",
    "\n",
    "class DSPC(mb.Compound):\n",
    "    def __init__(self):\n",
    "        super(DSPC, self).__init__()\n",
    "        \n",
    "        self.add(PCHead(), label='headgroup')\n",
    "        self.add(PCTails(18,18), label='ffatails')\n",
    "        \n",
    "        mb.force_overlap(move_this=self['ffatails'],\n",
    "                        from_positions=self['ffatails']['base']['up'],\n",
    "                        to_positions=self['headgroup']['alkyl_split']['up'])\n",
    "    "
   ]
  }
 ],
 "metadata": {
  "kernelspec": {
   "display_name": "Python 3",
   "language": "python",
   "name": "python3"
  },
  "language_info": {
   "codemirror_mode": {
    "name": "ipython",
    "version": 3
   },
   "file_extension": ".py",
   "mimetype": "text/x-python",
   "name": "python",
   "nbconvert_exporter": "python",
   "pygments_lexer": "ipython3",
   "version": "3.5.3"
  }
 },
 "nbformat": 4,
 "nbformat_minor": 2
}
