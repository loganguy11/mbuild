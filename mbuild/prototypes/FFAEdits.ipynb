{
 "cells": [
  {
   "cell_type": "code",
   "execution_count": 3,
   "metadata": {
    "collapsed": true,
    "scrolled": true
   },
   "outputs": [],
   "source": [
    "import mbuild as mb\n",
    "import numpy as np\n",
    "\n",
    "from mbuild.lib.moieties.ch3 import CH3\n",
    "from mbuild.prototypes.alkyl_monomer import AlkylMonomer\n",
    "from mbuild.prototypes.cooh import COOH\n",
    "\n",
    "class FFA(mb.Compound):\n",
    "    \"\"\"Creates a saturated free fatty acid of n carbons based on user\n",
    "    input\"\"\"\n",
    "    def __init__(self, chain_length, hcap=None):\n",
    "        super(FFA, self).__init__()\n",
    "        \n",
    "        if hcap:\n",
    "            self.add(COOH(), label='head')\n",
    "        else:\n",
    "            self.add(COOH(ester=True), label='head')\n",
    "        \n",
    "        tail = mb.Polymer(AlkylMonomer(), (chain_length - 2))\n",
    "        self.add(tail, label='tail')\n",
    "        mb.x_axis_transform(self['tail'], new_origin=self['tail'][0],\n",
    "                point_on_x_axis=self['tail'][6],\n",
    "                point_on_xy_plane=self['tail'][3])\n",
    "        self.add(CH3(), label='tailcap')\n",
    "        \n",
    "        self['head'].rotate(np.pi, [0,1,0])\n",
    "        self['head'].translate([-self['tail'][3].pos[0],\n",
    "            self['tail'][3].pos[1], 0])\n",
    "        mb.force_overlap(move_this=self['tailcap'],\n",
    "                from_positions=self['tailcap']['up'],\n",
    "                to_positions=self['tail']['up'])\n",
    "        \n",
    "        self['head']['up'].spin(-np.pi/2, self['head'][0].pos)\n",
    "        mb.force_overlap(move_this=self['head'],\n",
    "                from_positions=self['head']['up'],\n",
    "                to_positions=self['tail']['down'])\n",
    "        self.spin(np.pi/2, [0,1,0])\n",
    "\n",
    "if __name__ == '__main__':\n",
    "    ffa = FFA(16, hcap=True)\n",
    "    #ffa.energy_minimization()\n",
    "    ffa.save('ffa16.mol2', overwrite=True)"
   ]
  },
  {
   "cell_type": "code",
   "execution_count": 4,
   "metadata": {},
   "outputs": [
    {
     "name": "stderr",
     "output_type": "stream",
     "text": [
      "/home/loganguy/anaconda3/envs/mosdef/lib/python3.5/site-packages/ipywidgets/widgets/widget.py:464: DeprecationWarning: The 'warn' method is deprecated, use 'warning' instead\n",
      "  self.log.warn(message)\n",
      "The installed widget Javascript is the wrong version.\n"
     ]
    }
   ],
   "source": [
    "ffa = FFA(24, hcap=True)\n",
    "ffa.xyz\n",
    "ffa.visualize(show_ports=True)"
   ]
  },
  {
   "cell_type": "code",
   "execution_count": null,
   "metadata": {
    "collapsed": true
   },
   "outputs": [],
   "source": []
  }
 ],
 "metadata": {
  "kernelspec": {
   "display_name": "Python 3",
   "language": "python",
   "name": "python3"
  },
  "language_info": {
   "codemirror_mode": {
    "name": "ipython",
    "version": 3
   },
   "file_extension": ".py",
   "mimetype": "text/x-python",
   "name": "python",
   "nbconvert_exporter": "python",
   "pygments_lexer": "ipython3",
   "version": "3.5.3"
  }
 },
 "nbformat": 4,
 "nbformat_minor": 2
}
