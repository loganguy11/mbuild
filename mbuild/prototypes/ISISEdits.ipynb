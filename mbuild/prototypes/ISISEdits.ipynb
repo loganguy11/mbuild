{
 "cells": [
  {
   "cell_type": "code",
   "execution_count": 45,
   "metadata": {
    "collapsed": true
   },
   "outputs": [],
   "source": [
    "import mbuild as mb\n",
    "import numpy as np\n",
    "\n",
    "from mbuild.lib.moieties.ch3 import CH3\n",
    "from mbuild.prototypes.ffa import FFA\n",
    "from mbuild.prototypes.alkyl_monomer import AlkylMonomer\n",
    "from mbuild.prototypes.alc import ALC\n",
    "\n",
    "class ISIS(mb.Compound):\n",
    "    def __init__(self):\n",
    "        super(ISIS, self).__init__()\n",
    "        \n",
    "        self.add(FFA(17), label='acid')\n",
    "        self['acid'].translate(-self['acid']['head']['O'][1].pos)\n",
    "        self['acid']['head']['down'].rotate(125*np.pi/180, [0,0,1])\n",
    "        self.add(ALC(17), label='alcohol')\n",
    "        self['alcohol'].add(mb.Port(anchor=self['alcohol']['tail'][0], \n",
    "                                   orientation=self['alcohol']['head'][0].pos,\n",
    "                                   separation=.15/2), label='up')\n",
    "        self['alcohol']['up'].spin(-np.pi/2, self['alcohol']['up'].pos)\n",
    "        self['alcohol'].remove(self['alcohol']['head'])\n",
    "        mb.force_overlap(move_this=self['alcohol'], from_positions=self['alcohol']['up'],\n",
    "                         to_positions=self['acid']['head']['down'])\n",
    "        \n",
    "        self['alcohol'].add(mb.Port(anchor=self['alcohol']['tail'][45], \n",
    "                                    orientation=(self['alcohol']['tail'][46].pos -\n",
    "                                    self['alcohol']['tail'][45].pos),\n",
    "                                    separation=.14/2), label='down')\n",
    "        self['alcohol'].remove(self['alcohol']['tail'][46])\n",
    "        self['alcohol'].add(CH3(), label='methyl')\n",
    "        mb.force_overlap(move_this=self['alcohol']['methyl'], from_positions=self['alcohol']['methyl']['up'],\n",
    "                         to_positions=self['alcohol']['down'])\n",
    "    \n",
    "        self['acid'].add(mb.Port(anchor=self['acid']['tail'][42], \n",
    "                                    orientation=(self['acid']['tail'][44].pos -\n",
    "                                    self['acid']['tail'][42].pos),\n",
    "                                    separation=.14/2), label='down')\n",
    "        self['acid'].remove(self['acid']['tail'][44])\n",
    "        self['acid']['tail'].add(CH3(), label='methyl')\n",
    "        mb.force_overlap(move_this=self['acid']['tail']['methyl'], from_positions=self['acid']['tail']['methyl']['up'],\n",
    "                         to_positions=self['acid']['down'])\n",
    "        \n",
    "        self.translate(-self['acid']['tail'][0].pos)\n",
    "        self['acid']['tailcap'].rotate(np.pi, self['acid']['head']['C'].pos)\n",
    "        \n",
    "        self['acid']['tail'].rotate(np.pi, self['acid']['head']['C'].pos)\n",
    "        "
   ]
  },
  {
   "cell_type": "code",
   "execution_count": 50,
   "metadata": {},
   "outputs": [
    {
     "data": {
      "text/plain": [
       "<O pos=(-0.2409,-0.0031, 0.0015), 0 bonds, id: 140296634332496>"
      ]
     },
     "execution_count": 50,
     "metadata": {},
     "output_type": "execute_result"
    }
   ],
   "source": [
    "isis = ISIS()\n"
   ]
  },
  {
   "cell_type": "code",
   "execution_count": null,
   "metadata": {
    "collapsed": true
   },
   "outputs": [],
   "source": []
  }
 ],
 "metadata": {
  "kernelspec": {
   "display_name": "Python 3",
   "language": "python",
   "name": "python3"
  },
  "language_info": {
   "codemirror_mode": {
    "name": "ipython",
    "version": 3
   },
   "file_extension": ".py",
   "mimetype": "text/x-python",
   "name": "python",
   "nbconvert_exporter": "python",
   "pygments_lexer": "ipython3",
   "version": "3.5.3"
  }
 },
 "nbformat": 4,
 "nbformat_minor": 2
}
