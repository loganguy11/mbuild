{
 "cells": [
  {
   "cell_type": "code",
   "execution_count": 49,
   "metadata": {},
   "outputs": [],
   "source": [
    "import mbuild as mb\n",
    "import numpy as np\n",
    "\n",
    "from mbuild.prototypes.ffa import FFA\n",
    "\n",
    "class HDHD(mb.Compound):\n",
    "    def __init__(self):\n",
    "        super(HDHD,self).__init__()\n",
    "        \n",
    "        self.add(FFA(17), label='FFA[$]')\n",
    "        self.add(FFA(17, hcap=True), label='FFA[$]')\n",
    "        self['FFA'][1].remove(self['FFA'][1]['head']['OH'])\n",
    "        self['FFA'][1].translate([0,.5,0])\n",
    "        self['FFA'][0]['head']['down'].spin(np.pi, self['FFA'][0]['head']['O'][1].pos-\n",
    "                                           self['FFA'][0]['head']['C'].pos)\n",
    "        self['FFA'][0].translate(-self['FFA'][0]['head']['O'][1].pos)\n",
    "        self['FFA'][0]['head']['down'].rotate(25*np.pi/180, [0,0,1])\n",
    "        \n",
    "        mb.force_overlap(move_this=self['FFA'][1], \n",
    "                         from_positions=self['FFA'][1]['head']['down'], \n",
    "                         to_positions=self['FFA'][0]['head']['down'])\n",
    "        \n",
    "if __name__ == '__main__':\n",
    "    hdhd = HDHD()\n",
    "    hdhd.save('hdhd.mol2')"
   ]
  }
 ],
 "metadata": {
  "kernelspec": {
   "display_name": "Python 3",
   "language": "python",
   "name": "python3"
  },
  "language_info": {
   "codemirror_mode": {
    "name": "ipython",
    "version": 3
   },
   "file_extension": ".py",
   "mimetype": "text/x-python",
   "name": "python",
   "nbconvert_exporter": "python",
   "pygments_lexer": "ipython3",
   "version": "3.5.3"
  }
 },
 "nbformat": 4,
 "nbformat_minor": 2
}
