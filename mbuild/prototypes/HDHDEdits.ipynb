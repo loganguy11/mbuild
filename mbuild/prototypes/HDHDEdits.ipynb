{
 "cells": [
  {
   "cell_type": "code",
   "execution_count": 2,
   "metadata": {},
   "outputs": [],
   "source": [
    "import mbuild as mb\n",
    "import numpy as np\n",
    "\n",
    "from mbuild.prototypes.ffa import FFA\n",
    "\n",
    "class HDHD(mb.Compound):\n",
    "    def __init__(self):\n",
    "        super(HDHD,self).__init__()\n",
    "        \n",
    "        self.add(FFA(17), label='FFA[$]')\n",
    "        self.add(FFA(17, hcap=True), label='FFA[$]')\n",
    "        self['FFA'][1].remove(self['FFA'][1]['head']['OH'])\n",
    "        self['FFA'][1].translate([0,.5,0])\n",
    "        self['FFA'][0]['head']['down'].spin(np.pi, self['FFA'][0]['head']['O'][1].pos-\n",
    "                                           self['FFA'][0]['head']['C'].pos)\n",
    "        self['FFA'][0].translate(-self['FFA'][0]['head']['O'][1].pos)\n",
    "        self['FFA'][0]['head']['down'].rotate(25*np.pi/180, [0,0,1])\n",
    "        \n",
    "        mb.force_overlap(move_this=self['FFA'][1], \n",
    "                         from_positions=self['FFA'][1]['head']['down'], \n",
    "                         to_positions=self['FFA'][0]['head']['down'])\n",
    "        \n",
    "if __name__ == '__main__':\n",
    "    hdhd = HDHD()\n",
    "    hdhd.save('hdhd.mol2', overwrite = True)"
   ]
  },
  {
   "cell_type": "code",
   "execution_count": 3,
   "metadata": {},
   "outputs": [
    {
     "name": "stderr",
     "output_type": "stream",
     "text": [
      "/home/loganguy/anaconda3/envs/mosdef/lib/python3.5/site-packages/ipywidgets/widgets/widget.py:464: DeprecationWarning: The 'warn' method is deprecated, use 'warning' instead\n",
      "  self.log.warn(message)\n",
      "The installed widget Javascript is the wrong version.\n"
     ]
    }
   ],
   "source": [
    "hdhd = HDHD()\n",
    "hdhd.visualize()"
   ]
  },
  {
   "cell_type": "code",
   "execution_count": null,
   "metadata": {
    "collapsed": true
   },
   "outputs": [],
   "source": []
  }
 ],
 "metadata": {
  "kernelspec": {
   "display_name": "Python 3",
   "language": "python",
   "name": "python3"
  },
  "language_info": {
   "codemirror_mode": {
    "name": "ipython",
    "version": 3
   },
   "file_extension": ".py",
   "mimetype": "text/x-python",
   "name": "python",
   "nbconvert_exporter": "python",
   "pygments_lexer": "ipython3",
   "version": "3.5.3"
  }
 },
 "nbformat": 4,
 "nbformat_minor": 2
}
