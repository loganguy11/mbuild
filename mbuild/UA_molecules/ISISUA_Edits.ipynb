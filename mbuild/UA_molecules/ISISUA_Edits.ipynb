{
 "cells": [
  {
   "cell_type": "code",
   "execution_count": 69,
   "metadata": {
    "collapsed": true
   },
   "outputs": [],
   "source": [
    "import mbuild as mb\n",
    "import numpy as np\n",
    "\n",
    "from mbuild.UA_molecules.ch3ua import CH3UA\n",
    "from mbuild.UA_molecules.ffaua import FFAUA\n",
    "from mbuild.UA_molecules.alkyl_monomerua import AlkylMonomerUA\n",
    "from mbuild.UA_molecules.alcua import ALCUA\n",
    "\n",
    "class ISISUA(mb.Compound):\n",
    "    def __init__(self):\n",
    "        super(ISISUA, self).__init__()\n",
    "        \n",
    "        self.add(FFAUA(17), label='acid')\n",
    "        self['acid'].translate(-self['acid']['head']['O'][1].pos)\n",
    "        self['acid']['head']['down'].rotate(125*np.pi/180, [1,0,0])\n",
    "        self['acid']['head']['down'].spin(40*np.pi/180, self['acid']['head']['down'].pos)\n",
    "\n",
    "        self.add(ALCUA(17), label='alcohol')\n",
    "        self['alcohol'].translate(-self['alcohol']['tail'][0].pos)\n",
    "        self['alcohol'].add(mb.Port(anchor=self['alcohol']['tail'][0], \n",
    "            orientation=self['alcohol']['head'][0].pos,\n",
    "            separation=.15/2), label='up')\n",
    "        self['alcohol']['up'].spin(-3*np.pi/4, self['alcohol']['up'].pos)\n",
    "        self['alcohol'].remove(self['alcohol']['head'])\n",
    "        mb.force_overlap(move_this=self['alcohol'], \n",
    "                from_positions=self['alcohol']['up'],\n",
    "                to_positions=self['acid']['head']['down'])\n",
    "        \n",
    "        self['alcohol'].add(mb.Port(anchor=self['alcohol'][16], \n",
    "            orientation=[-1,0.8,-1],\n",
    "            separation=.14/2), label='down')\n",
    "        self['alcohol'].add(CH3UA(), label='methyl')\n",
    "        mb.force_overlap(move_this=self['alcohol']['methyl'], \n",
    "                from_positions=self['alcohol']['methyl']['up'],\n",
    "                to_positions=self['alcohol']['down'])\n",
    "        \n",
    "        self.translate(-self['acid']['tail'][0].pos)\n",
    "        self['acid']['tailcap'].rotate(np.pi, self['acid']['head']['C'].pos)\n",
    "        self['acid']['tail'].rotate(np.pi, self['acid']['head']['C'].pos)\n",
    "        \n",
    "        self.add(mb.Port(anchor=self['acid'][17], \n",
    "            orientation=[3,-0.5,-3],\n",
    "            separation=.14/2), label='acid_branch_port')\n",
    "        self.add(CH3UA(), label='acid_branch')\n",
    "        mb.force_overlap(move_this=self['acid_branch'], \n",
    "                from_positions=self['acid_branch']['up'],\n",
    "                to_positions=self['acid_branch_port'])\n",
    "        \n",
    "        mb.z_axis_transform(self, new_origin = self['acid']['head']['O'][0], \n",
    "                            point_on_z_axis = self['acid']['tailcap'][0])\n",
    "        self.rotate(np.pi/2, [0,0,1])\n",
    "        self.rotate(np.pi, [0,1,0])"
   ]
  },
  {
   "cell_type": "code",
   "execution_count": 70,
   "metadata": {},
   "outputs": [
    {
     "name": "stderr",
     "output_type": "stream",
     "text": [
      "/home/loganguy/builds/mbuild/mbuild/utils/decorators.py:11: DeprecationWarning: rotate_around_y is deprecated. Please use rotate(compound, theta, around=np.asarray([0, 1, 0]))\n",
      "  warn(printed_message, DeprecationWarning)\n",
      "/home/loganguy/builds/mbuild/mbuild/utils/decorators.py:11: DeprecationWarning: rotate is deprecated. Please use Compound.rotate()\n",
      "  warn(printed_message, DeprecationWarning)\n",
      "/home/loganguy/builds/mbuild/mbuild/utils/decorators.py:11: DeprecationWarning: rotate_around_y is deprecated. Please use rotate(compound, theta, around=np.asarray([0, 1, 0]))\n",
      "  warn(printed_message, DeprecationWarning)\n",
      "/home/loganguy/builds/mbuild/mbuild/utils/decorators.py:11: DeprecationWarning: rotate is deprecated. Please use Compound.rotate()\n",
      "  warn(printed_message, DeprecationWarning)\n",
      "/home/loganguy/anaconda3/envs/mosdef/lib/python3.5/site-packages/ipywidgets/widgets/widget.py:464: DeprecationWarning: The 'warn' method is deprecated, use 'warning' instead\n",
      "  self.log.warn(message)\n",
      "The installed widget Javascript is the wrong version.\n"
     ]
    }
   ],
   "source": [
    "isis = ISISUA()\n",
    "isis.visualize()"
   ]
  },
  {
   "cell_type": "code",
   "execution_count": 11,
   "metadata": {},
   "outputs": [
    {
     "name": "stdout",
     "output_type": "stream",
     "text": [
      "0 <C pos=(-0.0000,-0.0000,-2.1260), 0 bonds, id: 140544168560344>\n",
      "1 <CH2 pos=(-0.0784,-0.0091,-0.1210), 0 bonds, id: 140544168672000>\n",
      "2 <CH2 pos=( 0.0145, 0.0017,-0.2434), 0 bonds, id: 140544151389240>\n",
      "3 <CH2 pos=(-0.0691,-0.0080,-0.3724), 0 bonds, id: 140544151391984>\n",
      "4 <CH2 pos=( 0.0238, 0.0028,-0.4947), 0 bonds, id: 140544151435696>\n",
      "5 <CH2 pos=(-0.0598,-0.0069,-0.6237), 0 bonds, id: 140544151471216>\n",
      "6 <CH2 pos=( 0.0331, 0.0039,-0.7461), 0 bonds, id: 140544151473904>\n",
      "7 <CH2 pos=(-0.0504,-0.0059,-0.8751), 0 bonds, id: 140544151509424>\n",
      "8 <CH2 pos=( 0.0425, 0.0049,-0.9974), 0 bonds, id: 140544151544944>\n",
      "9 <CH2 pos=(-0.0411,-0.0048,-1.1264), 0 bonds, id: 140544151547632>\n",
      "10 <CH2 pos=( 0.0518, 0.0060,-1.2488), 0 bonds, id: 140544151583152>\n",
      "11 <CH2 pos=(-0.0318,-0.0037,-1.3778), 0 bonds, id: 140544169720856>\n",
      "12 <CH2 pos=( 0.0611, 0.0071,-1.5001), 0 bonds, id: 140544170356184>\n",
      "13 <CH2 pos=(-0.0225,-0.0026,-1.6291), 0 bonds, id: 140544171545712>\n",
      "14 <CH2 pos=( 0.0704, 0.0082,-1.7515), 0 bonds, id: 140544171504584>\n",
      "15 <CH2 pos=(-0.0131,-0.0015,-1.8805), 0 bonds, id: 140544172265880>\n",
      "16 <CH2 pos=( 0.0798, 0.0093,-2.0028), 0 bonds, id: 140544171671448>\n",
      "17 <O pos=(-0.0000,-0.0000,-0.0000), 0 bonds, id: 140544171668760>\n",
      "18 <H pos=( 0.0266,-0.0888, 0.0248), 0 bonds, id: 140544171667920>\n"
     ]
    },
    {
     "name": "stderr",
     "output_type": "stream",
     "text": [
      "/home/loganguy/builds/mbuild/mbuild/utils/decorators.py:11: DeprecationWarning: rotate_around_y is deprecated. Please use rotate(compound, theta, around=np.asarray([0, 1, 0]))\n",
      "  warn(printed_message, DeprecationWarning)\n",
      "/home/loganguy/builds/mbuild/mbuild/utils/decorators.py:11: DeprecationWarning: rotate is deprecated. Please use Compound.rotate()\n",
      "  warn(printed_message, DeprecationWarning)\n"
     ]
    }
   ],
   "source": [
    "alc = ALCUA(17)\n",
    "for index, particle in enumerate(alc.particles()):\n",
    "    print(index, particle)"
   ]
  },
  {
   "cell_type": "code",
   "execution_count": null,
   "metadata": {
    "collapsed": true
   },
   "outputs": [],
   "source": []
  }
 ],
 "metadata": {
  "kernelspec": {
   "display_name": "Python 3",
   "language": "python",
   "name": "python3"
  },
  "language_info": {
   "codemirror_mode": {
    "name": "ipython",
    "version": 3
   },
   "file_extension": ".py",
   "mimetype": "text/x-python",
   "name": "python",
   "nbconvert_exporter": "python",
   "pygments_lexer": "ipython3",
   "version": "3.5.3"
  }
 },
 "nbformat": 4,
 "nbformat_minor": 2
}
