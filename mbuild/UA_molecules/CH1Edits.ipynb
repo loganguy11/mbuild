{
 "cells": [
  {
   "cell_type": "code",
   "execution_count": 3,
   "metadata": {
    "collapsed": true
   },
   "outputs": [],
   "source": [
    "import mbuild as mb\n",
    "import numpy as np\n",
    "\n",
    "class CH1UA(mb.Compound):\n",
    "    \"\"\"Creates a 3-port carbon for a united-atom model\"\"\"\n",
    "    def __init__(self):\n",
    "        super(CH1UA, self).__init__()\n",
    "        self.add(mb.Particle(name='CH1', pos=[0,0,0]), label='C[$]')\n",
    "        \n",
    "        theta = (180-109.5)/2 * np.pi/180\n",
    "        self.add(mb.Port(anchor=self[0]), label='up')\n",
    "        self['up'].translate([0, -0.154/2, 0])\n",
    "        self['up'].rotate(theta, around=[1,0,0])\n",
    "        self.add(mb.Port(anchor=self[0]), label='down')\n",
    "        self['down'].translate([0, 0.154/2, 0])\n",
    "        self['down'].rotate(np.pi, around=[0,1,0])\n",
    "        self['down'].rotate(-theta, around=[1,0,0])\n",
    "        self.add(mb.Port(anchor=self[0], orientation=[-1,0,0], separation = .154/2), label='side')\n",
    "        self['side'].rotate(theta, around=[0,1,0])\n"
   ]
  }
 ],
 "metadata": {
  "kernelspec": {
   "display_name": "Python 3",
   "language": "python",
   "name": "python3"
  },
  "language_info": {
   "codemirror_mode": {
    "name": "ipython",
    "version": 3
   },
   "file_extension": ".py",
   "mimetype": "text/x-python",
   "name": "python",
   "nbconvert_exporter": "python",
   "pygments_lexer": "ipython3",
   "version": "3.5.3"
  }
 },
 "nbformat": 4,
 "nbformat_minor": 2
}
