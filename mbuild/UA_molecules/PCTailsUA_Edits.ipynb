{
 "cells": [
  {
   "cell_type": "code",
   "execution_count": 55,
   "metadata": {
    "collapsed": true
   },
   "outputs": [],
   "source": [
    "import mbuild as mb\n",
    "import numpy as np\n",
    "\n",
    "from mbuild.UA_molecules.ffaua import FFAUA\n",
    "from mbuild.UA_molecules.alkyl_monomerua import AlkylMonomerUA\n",
    "\n",
    "class PCTailsUA(mb.Compound):\n",
    "    def __init__(self, tail_1_length, tail_2_length):\n",
    "        super(PCTailsUA, self).__init__()\n",
    "        \n",
    "        self.add(mb.Polymer(AlkylMonomerUA(), 2), label='base')\n",
    "        self.translate(-self['base'][1].pos)\n",
    "        self['base']['up'].rotate(80*np.pi/180,[0,0,1])\n",
    "        self['base']['up'].rotate(30*np.pi/180, [0,1,0])\n",
    "        self['base'].add(mb.Port(anchor=self['base'][1], \n",
    "                                 orientation=[0,0,-1],\n",
    "                                 separation=.143/2), label='side')\n",
    "    \n",
    "        self.add(FFAUA(tail_1_length), label='FFA[$]')\n",
    "        mb.force_overlap(move_this=self['base'], \n",
    "                from_positions=self['base']['down'],\n",
    "                to_positions=self['FFA'][0]['head']['down'])\n",
    "        self.add(FFAUA(tail_2_length), label='FFA[$]')\n",
    "        self['FFA'][1].translate(-self['FFA'][1]['head']['O'][1].pos)\n",
    "        self['FFA'][1]['head']['down'].spin(np.pi, self['FFA'][1]['head']['down'].pos)\n",
    "        mb.force_overlap(move_this=self['FFA'][1], \n",
    "                from_positions=self['FFA'][1]['head']['down'],\n",
    "                to_positions=self['base']['side'])\n",
    "        \n"
   ]
  },
  {
   "cell_type": "code",
   "execution_count": 56,
   "metadata": {},
   "outputs": [
    {
     "name": "stderr",
     "output_type": "stream",
     "text": [
      "/home/loganguy/anaconda3/envs/mosdef/lib/python3.5/site-packages/ipywidgets/widgets/widget.py:464: DeprecationWarning: The 'warn' method is deprecated, use 'warning' instead\n",
      "  self.log.warn(message)\n",
      "The installed widget Javascript is the wrong version.\n"
     ]
    }
   ],
   "source": [
    "pctails = PCTailsUA(16,16)\n",
    "pctails.visualize(show_ports=True)\n"
   ]
  },
  {
   "cell_type": "code",
   "execution_count": 39,
   "metadata": {},
   "outputs": [
    {
     "name": "stderr",
     "output_type": "stream",
     "text": [
      "/home/loganguy/anaconda3/envs/mosdef/lib/python3.5/site-packages/ipywidgets/widgets/widget.py:464: DeprecationWarning: The 'warn' method is deprecated, use 'warning' instead\n",
      "  self.log.warn(message)\n",
      "The installed widget Javascript is the wrong version.\n"
     ]
    }
   ],
   "source": [
    "base = mb.Polymer(AlkylMonomerUA(), 2)\n",
    "base.visualize(show_ports=True)"
   ]
  },
  {
   "cell_type": "code",
   "execution_count": null,
   "metadata": {
    "collapsed": true
   },
   "outputs": [],
   "source": []
  }
 ],
 "metadata": {
  "kernelspec": {
   "display_name": "Python 3",
   "language": "python",
   "name": "python3"
  },
  "language_info": {
   "codemirror_mode": {
    "name": "ipython",
    "version": 3
   },
   "file_extension": ".py",
   "mimetype": "text/x-python",
   "name": "python",
   "nbconvert_exporter": "python",
   "pygments_lexer": "ipython3",
   "version": "3.5.3"
  }
 },
 "nbformat": 4,
 "nbformat_minor": 2
}
