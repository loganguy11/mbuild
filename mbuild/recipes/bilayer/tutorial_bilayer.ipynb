{
 "cells": [
  {
   "cell_type": "markdown",
   "metadata": {},
   "source": [
    "## The Bilayer Builder: Creating Customizable Initial Configurations of Lipid Bilayers using mBuild\n",
    "\n",
    "Welcome to the Bilayer Builder tutorial! In this lesson, you will learn how to use the aforementioned tool to create custom bilayer systems for molecular dynamics simulation.\n",
    "\n",
    "**Note**: This is a tutorial meant to explain how to use a computational tool. It is not a lesson on lipid bilayers as a whole, and it assumes basic knowledge of these types of systems (terms like area per lipid and headgroup offset will be used assuming the user knows what they mean).\n",
    "\n",
    "#### Lesson 1: Basic Syntax\n",
    "\n",
    "Let's start off with some import statements to bring in mBuild, the Bilayer class itself, as well as the lipids we'll put into our bilayer."
   ]
  },
  {
   "cell_type": "code",
   "execution_count": 4,
   "metadata": {},
   "outputs": [],
   "source": [
    "import mbuild as mb\n",
    "from mbuild.recipes.bilayer.bilayer import Bilayer\n",
    "#from mbuild.lib.prototypes import DSPC"
   ]
  },
  {
   "cell_type": "markdown",
   "metadata": {},
   "source": [
    "Great, now let's just create a simple bilayer, and then start digging into how this tool works."
   ]
  },
  {
   "cell_type": "code",
   "execution_count": 5,
   "metadata": {
    "scrolled": true
   },
   "outputs": [
    {
     "name": "stderr",
     "output_type": "stream",
     "text": [
      "/home/loganguy/builds/mbuild/mbuild/compound.py:1241: UserWarning: Performing energy minimization using the Open Babel package. Please refer to the documentation to find the appropriate citations for Open Babel and the UFF force field\n",
      "  \"Open Babel and the {} force field\".format(forcefield))\n",
      "/home/loganguy/anaconda3/envs/mosdef/lib/python3.5/site-packages/pandas/io/parsers.py:2108: FutureWarning: split() requires a non-empty pattern match.\n",
      "  yield pat.split(line.strip())\n",
      "/home/loganguy/anaconda3/envs/mosdef/lib/python3.5/site-packages/pandas/io/parsers.py:2110: FutureWarning: split() requires a non-empty pattern match.\n",
      "  yield pat.split(line.strip())\n",
      "/home/loganguy/builds/mbuild/mbuild/utils/decorators.py:11: DeprecationWarning: rotate_around_y is deprecated. Please use rotate(compound, theta, around=np.asarray([0, 1, 0]))\n",
      "  warn(printed_message, DeprecationWarning)\n",
      "/home/loganguy/builds/mbuild/mbuild/utils/decorators.py:11: DeprecationWarning: rotate is deprecated. Please use Compound.rotate()\n",
      "  warn(printed_message, DeprecationWarning)\n",
      "/home/loganguy/builds/mbuild/mbuild/compound.py:1740: UserWarning: Guessing that \"<OW pos=( 1.0203, 0.7604, 1.2673), 0 bonds, id: 140503271337880>\" is element: \"O\"\n",
      "  warn('Guessing that \"{}\" is element: \"{}\"'.format(atom, element))\n",
      "/home/loganguy/builds/mbuild/mbuild/compound.py:1740: UserWarning: Guessing that \"<HW1 pos=( 0.9626, 0.8420, 1.2673), 0 bonds, id: 140504093701568>\" is element: \"H\"\n",
      "  warn('Guessing that \"{}\" is element: \"{}\"'.format(atom, element))\n",
      "/home/loganguy/anaconda3/envs/mosdef/lib/python3.5/site-packages/ipywidgets/widgets/widget.py:464: DeprecationWarning: The 'warn' method is deprecated, use 'warning' instead\n",
      "  self.log.warn(message)\n",
      "The installed widget Javascript is the wrong version.\n"
     ]
    }
   ],
   "source": [
    "bi = Bilayer(lipids=[(DSPC(), 1.0, 0, 0)])\n",
    "\n",
    "bi.visualize()"
   ]
  },
  {
   "cell_type": "markdown",
   "metadata": {
    "collapsed": true
   },
   "source": [
    "Okay, a couple of things to note immediately:\n",
    "\n",
    "* Time: the bilayer builder has to make a lot of calculations in order to do its job, so making these systems takes a while. However, this is merely a tutorial, so in the future we'll use molecules with alkyl hydrogens removed, and we'll simulate smaller systems\n",
    "* The `lipids` parameter: that is the single required parameter (for now), and will be the subject of our next discussion\n",
    "\n",
    "More importantly, let's briefly discuss how these bilayers are constructed:\n",
    "* Lipid placement\n",
    "    * The Bilayer Builder utilizes mBuild's `2DGridPattern` class, which creates a scaffold of positions that the lipids are placed onto. The size of this grid is controlled by the user.\n",
    "* Solvation\n",
    "    * Lipid bilayers do not exist in a vacuum; therefore, the Bilayer Builder has built-in capability to solvate the bilayer in water, which the user can control\n",
    "\n",
    "The Bilayer Builder's strength is the control it gives to the user in determining physical properties of their specific lipid bilayer system. Therefore, there are numerous parameters which the Bilayer Builder requires (most are set to intelligent default values, and you would do good to minimize altering those defaults; however, this tutorial will explain how to control those variables). Let's begin with how to specify your desired composition.\n",
    "\n",
    "#### Lesson 2: Controlling the Composition\n",
    "\n",
    "*Parameters*:\n",
    "1. `lipids`: This parameter specifies the composition of your bilayer, as well as a number of other lipid-specific parameters. This is the most involved parameter, and therefore merits more discussion\n",
    "    * Data Type: `list of tuples`, where each tuple represents a single lipid molecule\n",
    "    * Each tuple has four elements that must be given in this order:\n",
    "        * The lipid itself; an `mb.Compound`\n",
    "        * The fraction of the bilayer made up of that lipid; type `float`, must be between 0 and 1\n",
    "        * Headgroup Offset: some lipid head groups tend to sink deeper into the bilayer when simulated alongside a phospholipid, so the Bilayer Builder tries to accomodate this by adjusting their starting position with respect to the bilayer normal with this variable\n",
    "            * Data Type: float; greater than zero moves the lipid \"up\" (into the solvent), less than zero move the lipid deeper into the bilayer\n",
    "        * Reference atom: Each lipid is an mBuild `Compound`, and therefore is made up of `Particles`, all of which have an integer index. The reference atom is the atom which the user considers to be the top of the \"head group\" of the lipid.\n",
    "            * This atom will form the bilayer-solvent interface; it is therefore necessary that the user know the components of any lipid they input into the Bilayer Builder\n",
    "            \n",
    "*Examples*:\n",
    "\n",
    "A `lipids` parameter for a pure DSPC bilayer:\n",
    "```\n",
    "lipids = [(DSPC, 1.0, 0, 0)]\n",
    "```\n",
    "\n",
    "Create a bilayer composed of 50% DSPC and 50% C-16 alcohol (remember, we want to use united-atom molecules from now on to save time, and want to keep our bilayers to a reasonable size, so 2x2 should be fine).\n",
    "**Help**: Use the list provided below for your `lipids` parameter. We've gotten you started with your imports and Bilayer instantiation, just add the lipids parameter.\n",
    "```\n",
    "lipids = [(DPSCUA(), 0.5, 0, 0), (ALCUA(16), 0.5, -0.4, 17)] \n",
    "```\n"
   ]
  },
  {
   "cell_type": "code",
   "execution_count": 9,
   "metadata": {},
   "outputs": [
    {
     "name": "stderr",
     "output_type": "stream",
     "text": [
      "/home/loganguy/builds/mbuild/mbuild/utils/decorators.py:11: DeprecationWarning: rotate_around_y is deprecated. Please use rotate(compound, theta, around=np.asarray([0, 1, 0]))\n",
      "  warn(printed_message, DeprecationWarning)\n",
      "/home/loganguy/builds/mbuild/mbuild/utils/decorators.py:11: DeprecationWarning: rotate is deprecated. Please use Compound.rotate()\n",
      "  warn(printed_message, DeprecationWarning)\n",
      "/home/loganguy/builds/mbuild/mbuild/utils/decorators.py:11: DeprecationWarning: rotate_around_y is deprecated. Please use rotate(compound, theta, around=np.asarray([0, 1, 0]))\n",
      "  warn(printed_message, DeprecationWarning)\n",
      "/home/loganguy/builds/mbuild/mbuild/utils/decorators.py:11: DeprecationWarning: rotate is deprecated. Please use Compound.rotate()\n",
      "  warn(printed_message, DeprecationWarning)\n",
      "/home/loganguy/anaconda3/envs/mosdef/lib/python3.5/site-packages/ipywidgets/widgets/widget.py:464: DeprecationWarning: The 'warn' method is deprecated, use 'warning' instead\n",
      "  self.log.warn(message)\n",
      "The installed widget Javascript is the wrong version.\n"
     ]
    }
   ],
   "source": [
    "from mbuild.lib.UA_molecules import *\n",
    "\n",
    "bilayer = Bilayer(lipids = [(DSPCUA(), 0.5, 0, 0), (ALCUA(16), 0.5, -0.4, 17)], n_lipids_x=2, n_lipids_y=2, solvent_per_lipid=0)\n",
    "bilayer.visualize()"
   ]
  },
  {
   "cell_type": "markdown",
   "metadata": {},
   "source": [
    "Hopefully you observe a couple of things:\n",
    "* There is no solvent because that is what was specified by the `solvent_per_lipid` parameter\n",
    "* There are two of each kind of lipid in each leaflet, because we specified a 2x2 bilayer with the following new parameters\n",
    "    2. `n_lipids_x`: The number of lipids in the x-dimension. Must be an integer. Controls the number of grid points along with n_lipids_y\n",
    "    3. `n_lipids_y`: The number of lipids in the y-dimension. Must be an integer.\n",
    "    \n",
    "This worked out nicely because we specified fractions that made sense for the size we gave. As you use this tool, be sure to watch out for the following mistakes:"
   ]
  },
  {
   "cell_type": "code",
   "execution_count": 10,
   "metadata": {},
   "outputs": [
    {
     "name": "stderr",
     "output_type": "stream",
     "text": [
      "/home/loganguy/builds/mbuild/mbuild/utils/decorators.py:11: DeprecationWarning: rotate_around_y is deprecated. Please use rotate(compound, theta, around=np.asarray([0, 1, 0]))\n",
      "  warn(printed_message, DeprecationWarning)\n",
      "/home/loganguy/builds/mbuild/mbuild/utils/decorators.py:11: DeprecationWarning: rotate is deprecated. Please use Compound.rotate()\n",
      "  warn(printed_message, DeprecationWarning)\n",
      "/home/loganguy/builds/mbuild/mbuild/utils/decorators.py:11: DeprecationWarning: rotate_around_y is deprecated. Please use rotate(compound, theta, around=np.asarray([0, 1, 0]))\n",
      "  warn(printed_message, DeprecationWarning)\n",
      "/home/loganguy/builds/mbuild/mbuild/utils/decorators.py:11: DeprecationWarning: rotate is deprecated. Please use Compound.rotate()\n",
      "  warn(printed_message, DeprecationWarning)\n"
     ]
    },
    {
     "ename": "ValueError",
     "evalue": "Lipid fractions do not add up to 1.",
     "output_type": "error",
     "traceback": [
      "\u001b[0;31m---------------------------------------------------------------------------\u001b[0m",
      "\u001b[0;31mValueError\u001b[0m                                Traceback (most recent call last)",
      "\u001b[0;32m<ipython-input-10-58a6f13d0167>\u001b[0m in \u001b[0;36m<module>\u001b[0;34m()\u001b[0m\n\u001b[1;32m      1\u001b[0m \u001b[0mlipids\u001b[0m \u001b[0;34m=\u001b[0m \u001b[0;34m[\u001b[0m\u001b[0;34m(\u001b[0m\u001b[0mDSPCUA\u001b[0m\u001b[0;34m(\u001b[0m\u001b[0;34m)\u001b[0m\u001b[0;34m,\u001b[0m \u001b[0;36m0.33\u001b[0m\u001b[0;34m,\u001b[0m \u001b[0;36m0\u001b[0m\u001b[0;34m,\u001b[0m \u001b[0;36m0\u001b[0m\u001b[0;34m)\u001b[0m\u001b[0;34m,\u001b[0m \u001b[0;34m(\u001b[0m\u001b[0mALCUA\u001b[0m\u001b[0;34m(\u001b[0m\u001b[0;36m16\u001b[0m\u001b[0;34m)\u001b[0m\u001b[0;34m,\u001b[0m \u001b[0;36m0.33\u001b[0m\u001b[0;34m,\u001b[0m \u001b[0;34m-\u001b[0m\u001b[0;36m0.4\u001b[0m\u001b[0;34m,\u001b[0m \u001b[0;36m17\u001b[0m\u001b[0;34m)\u001b[0m\u001b[0;34m,\u001b[0m \u001b[0;34m(\u001b[0m\u001b[0mFFAUA\u001b[0m\u001b[0;34m(\u001b[0m\u001b[0;36m16\u001b[0m\u001b[0;34m,\u001b[0m \u001b[0mester\u001b[0m\u001b[0;34m=\u001b[0m\u001b[0;32mFalse\u001b[0m\u001b[0;34m)\u001b[0m\u001b[0;34m,\u001b[0m \u001b[0;36m0.33\u001b[0m\u001b[0;34m,\u001b[0m \u001b[0;34m-\u001b[0m\u001b[0;36m0.4\u001b[0m\u001b[0;34m,\u001b[0m \u001b[0;36m17\u001b[0m\u001b[0;34m)\u001b[0m\u001b[0;34m]\u001b[0m\u001b[0;34m\u001b[0m\u001b[0m\n\u001b[0;32m----> 2\u001b[0;31m \u001b[0mbilayer\u001b[0m \u001b[0;34m=\u001b[0m \u001b[0mBilayer\u001b[0m\u001b[0;34m(\u001b[0m\u001b[0mlipids\u001b[0m\u001b[0;34m,\u001b[0m \u001b[0mn_lipids_x\u001b[0m\u001b[0;34m=\u001b[0m\u001b[0;36m2\u001b[0m\u001b[0;34m,\u001b[0m \u001b[0mn_lipids_y\u001b[0m\u001b[0;34m=\u001b[0m\u001b[0;36m2\u001b[0m\u001b[0;34m,\u001b[0m \u001b[0msolvent_per_lipid\u001b[0m\u001b[0;34m=\u001b[0m\u001b[0;36m0\u001b[0m\u001b[0;34m)\u001b[0m\u001b[0;34m\u001b[0m\u001b[0m\n\u001b[0m\u001b[1;32m      3\u001b[0m \u001b[0mbilayer\u001b[0m\u001b[0;34m.\u001b[0m\u001b[0mvisualize\u001b[0m\u001b[0;34m(\u001b[0m\u001b[0;34m)\u001b[0m\u001b[0;34m\u001b[0m\u001b[0m\n",
      "\u001b[0;32m/home/loganguy/builds/mbuild/mbuild/recipes/bilayer/bilayer.py\u001b[0m in \u001b[0;36m__init__\u001b[0;34m(self, lipids, n_lipids_x, n_lipids_y, itp_path, area_per_lipid, tilt_angle, z_spacing, max_tail_randomization, mirror, cross_tilt, solvent, solvent_per_lipid, unit_conversion, filename, make_files)\u001b[0m\n\u001b[1;32m    147\u001b[0m \u001b[0;34m\u001b[0m\u001b[0m\n\u001b[1;32m    148\u001b[0m         \u001b[0;31m# Ensure the user has entered plausible inputs\u001b[0m\u001b[0;34m\u001b[0m\u001b[0;34m\u001b[0m\u001b[0m\n\u001b[0;32m--> 149\u001b[0;31m         \u001b[0mself\u001b[0m\u001b[0;34m.\u001b[0m\u001b[0m_sanitize_inputs\u001b[0m\u001b[0;34m(\u001b[0m\u001b[0;34m)\u001b[0m\u001b[0;34m\u001b[0m\u001b[0m\n\u001b[0m\u001b[1;32m    150\u001b[0m \u001b[0;34m\u001b[0m\u001b[0m\n\u001b[1;32m    151\u001b[0m         \u001b[0;31m# Set the 2D lipid locations on a grid pattern\u001b[0m\u001b[0;34m\u001b[0m\u001b[0;34m\u001b[0m\u001b[0m\n",
      "\u001b[0;32m/home/loganguy/builds/mbuild/mbuild/recipes/bilayer/bilayer.py\u001b[0m in \u001b[0;36m_sanitize_inputs\u001b[0;34m(self)\u001b[0m\n\u001b[1;32m    418\u001b[0m \u001b[0;34m\u001b[0m\u001b[0m\n\u001b[1;32m    419\u001b[0m         \u001b[0;32mif\u001b[0m \u001b[0msum\u001b[0m\u001b[0;34m(\u001b[0m\u001b[0;34m[\u001b[0m\u001b[0mlipid\u001b[0m\u001b[0;34m[\u001b[0m\u001b[0;36m1\u001b[0m\u001b[0;34m]\u001b[0m \u001b[0;32mfor\u001b[0m \u001b[0mlipid\u001b[0m \u001b[0;32min\u001b[0m \u001b[0mself\u001b[0m\u001b[0;34m.\u001b[0m\u001b[0mlipids\u001b[0m\u001b[0;34m]\u001b[0m\u001b[0;34m)\u001b[0m \u001b[0;34m!=\u001b[0m \u001b[0;36m1.0\u001b[0m\u001b[0;34m:\u001b[0m\u001b[0;34m\u001b[0m\u001b[0m\n\u001b[0;32m--> 420\u001b[0;31m             \u001b[0;32mraise\u001b[0m \u001b[0mValueError\u001b[0m\u001b[0;34m(\u001b[0m\u001b[0;34m'Lipid fractions do not add up to 1.'\u001b[0m\u001b[0;34m)\u001b[0m\u001b[0;34m\u001b[0m\u001b[0m\n\u001b[0m\u001b[1;32m    421\u001b[0m         \u001b[0;32mif\u001b[0m \u001b[0;32mnot\u001b[0m \u001b[0;34m(\u001b[0m\u001b[0mself\u001b[0m\u001b[0;34m.\u001b[0m\u001b[0mn_lipids_x\u001b[0m \u001b[0;34m>\u001b[0m \u001b[0;36m0\u001b[0m \u001b[0;32mand\u001b[0m \u001b[0mself\u001b[0m\u001b[0;34m.\u001b[0m\u001b[0mn_lipids_y\u001b[0m \u001b[0;34m>\u001b[0m \u001b[0;36m0\u001b[0m\u001b[0;34m)\u001b[0m\u001b[0;34m:\u001b[0m\u001b[0;34m\u001b[0m\u001b[0m\n\u001b[1;32m    422\u001b[0m             \u001b[0;32mraise\u001b[0m \u001b[0mValueError\u001b[0m\u001b[0;34m(\u001b[0m\u001b[0;34m'Bilayer dimensions must be greater than 0'\u001b[0m\u001b[0;34m)\u001b[0m\u001b[0;34m\u001b[0m\u001b[0m\n",
      "\u001b[0;31mValueError\u001b[0m: Lipid fractions do not add up to 1."
     ]
    }
   ],
   "source": [
    "lipids = [(DSPCUA(), 0.33, 0, 0), (ALCUA(16), 0.33, -0.4, 17), (FFAUA(16, ester=False), 0.33, -0.4, 17)]\n",
    "bilayer = Bilayer(lipids, n_lipids_x=2, n_lipids_y=2, solvent_per_lipid=0)\n",
    "bilayer.visualize()"
   ]
  },
  {
   "cell_type": "markdown",
   "metadata": {},
   "source": [
    "Whoops! If you are going to specify more than one component, make sure that all of the fractions add up to 1.0; otherwise, your composition is non-sensical.\n",
    "\n",
    "Let's fix that problem by changing one of the 0.33 to 0.34."
   ]
  },
  {
   "cell_type": "code",
   "execution_count": 11,
   "metadata": {},
   "outputs": [
    {
     "name": "stderr",
     "output_type": "stream",
     "text": [
      "/home/loganguy/builds/mbuild/mbuild/utils/decorators.py:11: DeprecationWarning: rotate_around_y is deprecated. Please use rotate(compound, theta, around=np.asarray([0, 1, 0]))\n",
      "  warn(printed_message, DeprecationWarning)\n",
      "/home/loganguy/builds/mbuild/mbuild/utils/decorators.py:11: DeprecationWarning: rotate is deprecated. Please use Compound.rotate()\n",
      "  warn(printed_message, DeprecationWarning)\n",
      "/home/loganguy/builds/mbuild/mbuild/utils/decorators.py:11: DeprecationWarning: rotate_around_y is deprecated. Please use rotate(compound, theta, around=np.asarray([0, 1, 0]))\n",
      "  warn(printed_message, DeprecationWarning)\n",
      "/home/loganguy/builds/mbuild/mbuild/utils/decorators.py:11: DeprecationWarning: rotate is deprecated. Please use Compound.rotate()\n",
      "  warn(printed_message, DeprecationWarning)\n",
      "/home/loganguy/anaconda3/envs/mosdef/lib/python3.5/site-packages/ipywidgets/widgets/widget.py:464: DeprecationWarning: The 'warn' method is deprecated, use 'warning' instead\n",
      "  self.log.warn(message)\n",
      "The installed widget Javascript is the wrong version.\n"
     ]
    }
   ],
   "source": [
    "lipids = [(DSPCUA(), 0.33, 0, 0), (ALCUA(16), 0.33, -0.4, 17), (FFAUA(16, ester=False), 0.34, -0.4, 17)]\n",
    "bilayer = Bilayer(lipids, n_lipids_x=2, n_lipids_y=2, solvent_per_lipid=0)\n",
    "bilayer.visualize()"
   ]
  },
  {
   "cell_type": "markdown",
   "metadata": {},
   "source": [
    "The Bilayer Builder was able to create a system for you, but look closely. Each leaflet has one DSPC molecule, one alcohol molecule, and **two** free fatty acid molecules.\n",
    "\n",
    "Presumably, this is not what we would want when we specify fractions of 0.33, 0.33, and 0.34. However, we specified a size of 2x2, and the Bilayer Builder in its current state does not tell you when the actual fraction deviates from your expected fraction.\n",
    "\n",
    "**IMPORTANT**: Always take care that your combination of size and composition specifications make sense together.\n",
    "\n",
    "#### Lesson 3: Controlling the individual lipid geometry"
   ]
  },
  {
   "cell_type": "code",
   "execution_count": null,
   "metadata": {
    "collapsed": true
   },
   "outputs": [],
   "source": []
  }
 ],
 "metadata": {
  "kernelspec": {
   "display_name": "Python 3",
   "language": "python",
   "name": "python3"
  },
  "language_info": {
   "codemirror_mode": {
    "name": "ipython",
    "version": 3
   },
   "file_extension": ".py",
   "mimetype": "text/x-python",
   "name": "python",
   "nbconvert_exporter": "python",
   "pygments_lexer": "ipython3",
   "version": "3.5.3"
  }
 },
 "nbformat": 4,
 "nbformat_minor": 2
}
