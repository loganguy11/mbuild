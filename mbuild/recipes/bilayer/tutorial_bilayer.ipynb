{
 "cells": [
  {
   "cell_type": "markdown",
   "metadata": {},
   "source": [
    "## The Bilayer Builder: Creating Customizable Initial Configurations of Lipid Bilayers using mBuild\n",
    "\n",
    "Welcome to the Bilayer Builder tutorial! In this lesson, you will learn how to use the aforementioned tool to create custom bilayer systems for molecular dynamics simulation.\n",
    "\n",
    "#### Lesson 1: Basic Syntax\n",
    "\n",
    "Let's start off with some import statements to bring in mBuild, the Bilayer class itself, as well as the lipids we'll put into our bilayer."
   ]
  },
  {
   "cell_type": "code",
   "execution_count": 4,
   "metadata": {},
   "outputs": [],
   "source": [
    "import mbuild as mb\n",
    "from mbuild.bilayer.bilayer import Bilayer\n",
    "from mbuild.UA_molecules import *\n",
    "from mbuild.prototypes import *"
   ]
  },
  {
   "cell_type": "code",
   "execution_count": 2,
   "metadata": {
    "scrolled": true
   },
   "outputs": [
    {
     "name": "stderr",
     "output_type": "stream",
     "text": [
      "/home/loganguy/builds/mbuild/mbuild/compound.py:1241: UserWarning: Performing energy minimization using the Open Babel package. Please refer to the documentation to find the appropriate citations for Open Babel and the UFF force field\n",
      "  \"Open Babel and the {} force field\".format(forcefield))\n",
      "/home/loganguy/anaconda3/envs/mosdef/lib/python3.5/site-packages/pandas/io/parsers.py:2108: FutureWarning: split() requires a non-empty pattern match.\n",
      "  yield pat.split(line.strip())\n",
      "/home/loganguy/anaconda3/envs/mosdef/lib/python3.5/site-packages/pandas/io/parsers.py:2110: FutureWarning: split() requires a non-empty pattern match.\n",
      "  yield pat.split(line.strip())\n",
      "/home/loganguy/builds/mbuild/mbuild/utils/decorators.py:11: DeprecationWarning: rotate_around_y is deprecated. Please use rotate(compound, theta, around=np.asarray([0, 1, 0]))\n",
      "  warn(printed_message, DeprecationWarning)\n",
      "/home/loganguy/builds/mbuild/mbuild/utils/decorators.py:11: DeprecationWarning: rotate is deprecated. Please use Compound.rotate()\n",
      "  warn(printed_message, DeprecationWarning)\n",
      "/home/loganguy/builds/mbuild/mbuild/compound.py:1740: UserWarning: Guessing that \"<OW pos=( 1.0203, 0.7604, 1.2673), 0 bonds, id: 140661684916576>\" is element: \"O\"\n",
      "  warn('Guessing that \"{}\" is element: \"{}\"'.format(atom, element))\n",
      "/home/loganguy/builds/mbuild/mbuild/compound.py:1740: UserWarning: Guessing that \"<HW1 pos=( 0.9626, 0.8420, 1.2673), 0 bonds, id: 140661696124296>\" is element: \"H\"\n",
      "  warn('Guessing that \"{}\" is element: \"{}\"'.format(atom, element))\n",
      "/home/loganguy/anaconda3/envs/mosdef/lib/python3.5/site-packages/ipywidgets/widgets/widget.py:464: DeprecationWarning: The 'warn' method is deprecated, use 'warning' instead\n",
      "  self.log.warn(message)\n",
      "The installed widget Javascript is the wrong version.\n"
     ]
    }
   ],
   "source": [
    "bi = Bilayer(lipids=[(DSPC(), 1.0, 0, 0)], n_lipids_x=8, n_lipids_y=8)\n",
    "\n",
    "bi.visualize()"
   ]
  },
  {
   "cell_type": "code",
   "execution_count": null,
   "metadata": {
    "collapsed": true
   },
   "outputs": [],
   "source": []
  }
 ],
 "metadata": {
  "kernelspec": {
   "display_name": "Python 3",
   "language": "python",
   "name": "python3"
  },
  "language_info": {
   "codemirror_mode": {
    "name": "ipython",
    "version": 3
   },
   "file_extension": ".py",
   "mimetype": "text/x-python",
   "name": "python",
   "nbconvert_exporter": "python",
   "pygments_lexer": "ipython3",
   "version": "3.5.3"
  }
 },
 "nbformat": 4,
 "nbformat_minor": 2
}
